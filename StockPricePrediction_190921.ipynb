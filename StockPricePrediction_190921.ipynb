{
  "nbformat": 4,
  "nbformat_minor": 0,
  "metadata": {
    "colab": {
      "name": "StockPricePrediction_190921.ipynb",
      "private_outputs": true,
      "provenance": [],
      "collapsed_sections": [],
      "mount_file_id": "17wO-6yvZRW5DW5lpAMXek_CJU7SbaOet",
      "authorship_tag": "ABX9TyNJFlK7vd/crS8mKYoD29AC",
      "include_colab_link": true
    },
    "kernelspec": {
      "name": "python3",
      "display_name": "Python 3"
    },
    "language_info": {
      "name": "python"
    },
    "accelerator": "GPU"
  },
  "cells": [
    {
      "cell_type": "markdown",
      "metadata": {
        "id": "view-in-github",
        "colab_type": "text"
      },
      "source": [
        "<a href=\"https://colab.research.google.com/github/SudhirBisen/SBIN-Stock-prediction-Using-LSTM-Model/blob/main/StockPricePrediction_190921.ipynb\" target=\"_parent\"><img src=\"https://colab.research.google.com/assets/colab-badge.svg\" alt=\"Open In Colab\"/></a>"
      ]
    },
    {
      "cell_type": "code",
      "metadata": {
        "id": "j6lY37YLZ40c"
      },
      "source": [
        "#Description: This program use for an Artificial RNN called long short term memory(LSTM)\n",
        "#             LSTM use to prediction of closing stock price of Apple using last 60 day stock price.\n",
        "\n"
      ],
      "execution_count": null,
      "outputs": []
    },
    {
      "cell_type": "code",
      "metadata": {
        "id": "JJ-PffHHbNvs"
      },
      "source": [
        "# Import Libraries \n",
        "import math\n",
        "import tensorflow as tf\n",
        "import keras\n",
        "import pandas_datareader as web\n",
        "import numpy as np\n",
        "import pandas as pd\n",
        "from sklearn.preprocessing import MinMaxScaler\n",
        "from keras.models import sequential \n",
        "from keras.layers import Dense, LSTM\n",
        "import matplotlib.pyplot as plt\n",
        "plt.style.use('fivethirtyeight')"
      ],
      "execution_count": null,
      "outputs": []
    },
    {
      "cell_type": "markdown",
      "metadata": {
        "id": "JQvhqoU2DjYW"
      },
      "source": [
        "##**Data Import from Libraray**"
      ]
    },
    {
      "cell_type": "code",
      "metadata": {
        "id": "IjMlhrzYgnLf"
      },
      "source": [
        "#Get the stock details \n",
        "#df=web.DataReader('AAPL',data_source='yahoo', start='2012-01-01', end='2019-12-17')\n",
        "df = pd.read_csv ('/SBIN_R1.csv')\n",
        "# SBIN History dataset from 01/01/1996 to 17/09/2021\n",
        "#Total data set 01/01/1996 --> 0 and 17/09/2021 --> 6479\n",
        "#show the Data\n",
        "df"
      ],
      "execution_count": null,
      "outputs": []
    },
    {
      "cell_type": "markdown",
      "metadata": {
        "id": "7gIMRX0FaU6G"
      },
      "source": [
        "# New Section"
      ]
    },
    {
      "cell_type": "code",
      "metadata": {
        "id": "JBOprnCoks99"
      },
      "source": [
        "df.head()"
      ],
      "execution_count": null,
      "outputs": []
    },
    {
      "cell_type": "code",
      "metadata": {
        "id": "MTpOBSoXkwyh"
      },
      "source": [
        "a=df.shape\n",
        "a"
      ],
      "execution_count": null,
      "outputs": []
    },
    {
      "cell_type": "markdown",
      "metadata": {
        "id": "miS21-tTDMKJ"
      },
      "source": [
        "## **Data Set Visulization**"
      ]
    },
    {
      "cell_type": "code",
      "metadata": {
        "id": "e570psRZqJH1"
      },
      "source": [
        "#Visulization of pas closing price history\n",
        "plt.figure(figsize=(16,8))\n",
        "plt.title('SBIN Close Price')\n",
        "plt.plot(df['Close'])\n",
        "plt.xlabel('Date', fontsize=18)\n",
        "plt.ylabel('close price', fontsize=18)\n",
        "plt.show()\n"
      ],
      "execution_count": null,
      "outputs": []
    },
    {
      "cell_type": "code",
      "metadata": {
        "id": "5qOcNYe6wk-C"
      },
      "source": [
        "# Arrange all row from start date to end date\n",
        "#Learn how to call matrix value\n",
        "#df1=df['Close[5]']\n",
        "# df2=df1[2]\n",
        "# df3=df1.replace([(2390-2)])\n",
        "# print(df1,df2,df3)"
      ],
      "execution_count": null,
      "outputs": []
    },
    {
      "cell_type": "markdown",
      "metadata": {
        "id": "trm6uT4-Czde"
      },
      "source": [
        "## **Training Data**"
      ]
    },
    {
      "cell_type": "code",
      "metadata": {
        "id": "MQDZeB5-Bguj"
      },
      "source": [
        "#Data Training\n",
        "#df.dropna(inplace = True)\n",
        "   \n",
        "# creating DataFrame form weight column\n",
        "dataset = pd.DataFrame(df['Close'])\n",
        "   \n",
        "# providing dtype\n",
        "#print(dataset.to_numpy(dtype ='float32'))\n",
        "\n",
        "#data=df.filter(['close'])\n",
        "#Convert data frame into numpy arrey\n",
        "#dataset=data.values\n",
        "# Select the 90% of data set for Training Model\n",
        "traning_data_len=math.ceil(len(dataset)*0.7)\n",
        "# traning_data_len\n",
        "# dataset.size\n",
        "# res= np.argwhere(dataset==0)\n",
        "# dataset>0\n",
        "dataset.size\n",
        "#res = np.where(dataset == 0)[0]\n",
        "#dataset.shape\n",
        "traning_data_len\n"
      ],
      "execution_count": null,
      "outputs": []
    },
    {
      "cell_type": "code",
      "metadata": {
        "id": "z3P3Qcn7Ed9N"
      },
      "source": [
        "# # #scale the data set\n",
        "scaler=MinMaxScaler(feature_range=(0,1))\n",
        "scaled_data = scaler.fit_transform(dataset)\n",
        "#scaled_data"
      ],
      "execution_count": null,
      "outputs": []
    },
    {
      "cell_type": "code",
      "metadata": {
        "id": "cjP8JsIeUb6t"
      },
      "source": [
        "#finally converted dataframe to a Numpy arrary\n",
        "#Crater the traning datset\n",
        "#create the scaled data training set\n",
        "train_data=scaled_data[0:traning_data_len,:]\n",
        "#Slit the data into X_train and Y_train dataset\n",
        "#print(train_data)\n",
        "#train_data.size\n",
        "X_train = []\n",
        "Y_train = []\n",
        "xyz=10\n",
        "for i in range(xyz, len(train_data)):\n",
        "  X_train.append(train_data[i-xyz:i,0])\n",
        "  Y_train.append(train_data[i,0])\n",
        "  if i<=(xyz+1): \n",
        "   print(X_train)\n",
        "   print(Y_train)"
      ],
      "execution_count": null,
      "outputs": []
    },
    {
      "cell_type": "code",
      "metadata": {
        "id": "Mvn740d9a37l"
      },
      "source": [
        "# Convert Xtrain and Y Train into Numpy arrary\n",
        "X_train, Y_train =np.array(X_train), np.array(Y_train)\n",
        "X_train.shape"
      ],
      "execution_count": null,
      "outputs": []
    },
    {
      "cell_type": "code",
      "metadata": {
        "id": "BF1yN02PcevY"
      },
      "source": [
        "#Reshape The data\n",
        "X_train=np.reshape(X_train,(X_train.shape[0], X_train.shape[1],1))\n",
        "X_train.shape"
      ],
      "execution_count": null,
      "outputs": []
    },
    {
      "cell_type": "code",
      "metadata": {
        "id": "K4Y2JFqCawzQ"
      },
      "source": [
        "## LSTM Model data feeding \n",
        "#We have to learn LSTM Sequential Model \n",
        "model= keras.Sequential()\n",
        "\n",
        "model.add(LSTM(50, return_sequences=True,input_shape=(X_train.shape[1],1)))\n",
        "model.add(LSTM(50, return_sequences=False))\n",
        "model.add(Dense(25))\n",
        "model.add(Dense(1))"
      ],
      "execution_count": null,
      "outputs": []
    },
    {
      "cell_type": "code",
      "metadata": {
        "id": "fe_IMrr-dnic"
      },
      "source": [
        "#Next to the model Compile the Model\n",
        "model.compile(optimizer='adam', loss='mean_squared_error')"
      ],
      "execution_count": null,
      "outputs": []
    },
    {
      "cell_type": "code",
      "metadata": {
        "id": "TABLKnOheqhL"
      },
      "source": [
        "#Train the model\n",
        "#Pleaase change the epoch value and batch size and see the effect for learning purpose \n",
        "model.fit(X_train,Y_train,batch_size=1,epochs=10)\n",
        "#plt.plot(epochs,loss)"
      ],
      "execution_count": null,
      "outputs": []
    },
    {
      "cell_type": "markdown",
      "metadata": {
        "id": "xPO05sVgCmwX"
      },
      "source": [
        "# New Section"
      ]
    },
    {
      "cell_type": "code",
      "metadata": {
        "id": "AEZ9eiupfpv9"
      },
      "source": [
        "#Now Time to create the testing Data set\n",
        "test_data =scaled_data[traning_data_len-xyz:,:]\n",
        "#create a data to set to X_test and Y_test\n",
        "X_test =[]\n",
        "Y_test =[]\n",
        "# print(dataset)\n",
        "dataset=np.array(dataset)\n",
        "#print(traning_data_len)\n",
        "Y_test= dataset[traning_data_len:,:]\n",
        "for i in range(xyz,len(test_data)):\n",
        "  X_test.append(test_data[i-xyz:i,0])\n",
        "\n",
        "#print(X_test)"
      ],
      "execution_count": null,
      "outputs": []
    },
    {
      "cell_type": "code",
      "metadata": {
        "id": "4thE1dKQiaJa"
      },
      "source": [
        "#Now convert the test data in a numpy array\n",
        "X_test,Y_test=np.array(X_test),np.array(Y_test)\n",
        "print(X_test.shape)\n",
        "#print(X_test)"
      ],
      "execution_count": null,
      "outputs": []
    },
    {
      "cell_type": "code",
      "metadata": {
        "id": "Bbd1J6skjAmg"
      },
      "source": [
        "#Reshape the test data for LSTM Model\n",
        "X_test=np.reshape(X_test,(X_test.shape[0], X_test.shape[1],1))\n",
        "X_test.shape"
      ],
      "execution_count": null,
      "outputs": []
    },
    {
      "cell_type": "code",
      "metadata": {
        "id": "6jJTA1n_SKFD"
      },
      "source": [
        "#model prediction price value\n",
        "predictions=model.predict(X_test)\n",
        "predictions=scaler.inverse_transform(predictions)\n",
        "predictions.shape"
      ],
      "execution_count": null,
      "outputs": []
    },
    {
      "cell_type": "code",
      "metadata": {
        "id": "4CVomAaxS7wh"
      },
      "source": [
        "#check RMSE value\n",
        "rmse=np.sqrt(np.mean(predictions-Y_test)**2)\n",
        "print(rmse)"
      ],
      "execution_count": null,
      "outputs": []
    },
    {
      "cell_type": "code",
      "metadata": {
        "id": "yrHfAfVNTW-L"
      },
      "source": [
        "#plot the data\n",
        "Close=df['Close']\n",
        "dataset=np.array(dataset)\n",
        "data=df.loc[:,'Close']\n",
        "train=data[:traning_data_len]\n",
        "valid=data[traning_data_len:]\n",
        "#predict=predictions[traning_data_len:,:]\n",
        "#valid['predictions']=predictions\n",
        "train.shape\n",
        "#valid.shape\n",
        "# plt.figure(figsize=(16,8))\n",
        "# plt.plot(train)\n",
        "#plt.plot(valid,\"r-\")\n",
        "#plt.plot(predictions,\"y\")\n",
        "# plt.show()\n",
        "# plt.legend(['Train','close','predictions'])"
      ],
      "execution_count": null,
      "outputs": []
    },
    {
      "cell_type": "code",
      "metadata": {
        "id": "TEwqM4HZWjKY"
      },
      "source": [
        "#visulization of data\n",
        "plt.figure(figsize=(16,8))\n",
        "plt.title('TATA MoTORS Stock price Prediction Model')\n",
        "plt.xlabel('Time (Year)',fontsize=18)\n",
        "plt.ylabel('Share Price(Rs)', fontsize=18)\n",
        "#new=np.arange(323,358)\n",
        "Total_data_len=math.ceil(len(dataset))\n",
        "newC=np.arange(traning_data_len,Total_data_len)\n",
        "#NewA=np.arange(traning_data_len,358)\n",
        "#plt.plot(train,\"b\")\n",
        "plt.plot(df['Close'],\"r\")\n",
        "plt.plot(valid,\"y\")\n",
        "plt.plot(newC,predictions,\"b-\")\n",
        "plt.legend(['Training','Testing','predictions'])\n",
        "plt.show()"
      ],
      "execution_count": null,
      "outputs": []
    },
    {
      "cell_type": "code",
      "metadata": {
        "id": "yAP68jigUhzX"
      },
      "source": [
        "print(valid)\n",
        "print(predictions)"
      ],
      "execution_count": null,
      "outputs": []
    },
    {
      "cell_type": "code",
      "metadata": {
        "id": "mTxahMikUpqI"
      },
      "source": [
        "# predictions=np.array(predictions)\n",
        "# #predictions=np.newaxis(:,'prediction')\n",
        "#print(predictions)\n",
        "#predictions.shape\n",
        "\n",
        "# predict1=predictions.append()\n",
        "# # valid=np.array(valid)\n",
        "# # print(valid[2])\n",
        "\n",
        "# predictions =[]\n",
        "# # print(dataset)\n",
        "# #dataset=np.array(dataset)\n",
        "# #print(traning_data_len)\n",
        "# predictions= dataset[traning_data_len:,:]\n",
        "# for i in range(xyz,len(test_data)):\n",
        "#   predictions.append(test_data[i-xyz:i,0])\n"
      ],
      "execution_count": null,
      "outputs": []
    },
    {
      "cell_type": "code",
      "metadata": {
        "id": "_Lfyb7WrcPrf"
      },
      "source": [
        "\n",
        "# #predictions =[]\n",
        "# predictions=np.array(predictions)\n",
        "# predictions=np.append[predictions,[5818]]\n",
        "# #print(predictions)\n",
        "# plt.plot(predictions)\n",
        "# plt.show()\n",
        "#newnumner=[(5818:6464),:]\n",
        "# nematrix=np.array(nematrix)\n",
        "# predictions=np.append([predictions],[nematrix])\n",
        "# predictions.shape\n",
        "print(valid.shape)\n",
        "print(predictions.shape)"
      ],
      "execution_count": null,
      "outputs": []
    },
    {
      "cell_type": "code",
      "metadata": {
        "id": "cCP8tk-SflLi"
      },
      "source": [
        "last_year =dataset[-1500:]\n",
        "last_year_scaled=scaler.transform(last_year)\n",
        "XX_test=[]\n",
        "XX_test.append(last_year_scaled)\n",
        "#print(XX_test)\n",
        "XX_test=np.array(XX_test)\n",
        "XX_test=np.reshape(XX_test,(XX_test.shape[0],XX_test.shape[1],1))\n",
        "pred_price=model.predict(XX_test)\n",
        "pred_price=scaler.inverse_transform(pred_price)\n",
        "print(pred_price)\n",
        "XX_test.shape"
      ],
      "execution_count": null,
      "outputs": []
    },
    {
      "cell_type": "code",
      "metadata": {
        "id": "UxF7htjU-qTY"
      },
      "source": [
        ""
      ],
      "execution_count": null,
      "outputs": []
    }
  ]
}